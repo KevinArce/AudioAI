{
 "cells": [
  {
   "cell_type": "code",
   "execution_count": 1,
   "metadata": {},
   "outputs": [
    {
     "data": {
      "application/javascript": "(function(root) {\n  function now() {\n    return new Date();\n  }\n\n  var force = true;\n\n  if (typeof root._bokeh_onload_callbacks === \"undefined\" || force === true) {\n    root._bokeh_onload_callbacks = [];\n    root._bokeh_is_loading = undefined;\n  }\n\n  if (typeof (root._bokeh_timeout) === \"undefined\" || force === true) {\n    root._bokeh_timeout = Date.now() + 5000;\n    root._bokeh_failed_load = false;\n  }\n\n  function run_callbacks() {\n    try {\n      root._bokeh_onload_callbacks.forEach(function(callback) {\n        if (callback != null)\n          callback();\n      });\n    } finally {\n      delete root._bokeh_onload_callbacks\n    }\n    console.debug(\"Bokeh: all callbacks have finished\");\n  }\n\n  function load_libs(css_urls, js_urls, js_modules, callback) {\n    if (css_urls == null) css_urls = [];\n    if (js_urls == null) js_urls = [];\n    if (js_modules == null) js_modules = [];\n\n    root._bokeh_onload_callbacks.push(callback);\n    if (root._bokeh_is_loading > 0) {\n      console.debug(\"Bokeh: BokehJS is being loaded, scheduling callback at\", now());\n      return null;\n    }\n    if (js_urls.length === 0 && js_modules.length === 0) {\n      run_callbacks();\n      return null;\n    }\n    console.debug(\"Bokeh: BokehJS not loaded, scheduling load and callback at\", now());\n\n    function on_load() {\n      root._bokeh_is_loading--;\n      if (root._bokeh_is_loading === 0) {\n        console.debug(\"Bokeh: all BokehJS libraries/stylesheets loaded\");\n        run_callbacks()\n      }\n    }\n\n    function on_error() {\n      console.error(\"failed to load \" + url);\n    }\n\n    for (var i = 0; i < css_urls.length; i++) {\n      var url = css_urls[i];\n      const element = document.createElement(\"link\");\n      element.onload = on_load;\n      element.onerror = on_error;\n      element.rel = \"stylesheet\";\n      element.type = \"text/css\";\n      element.href = url;\n      console.debug(\"Bokeh: injecting link tag for BokehJS stylesheet: \", url);\n      document.body.appendChild(element);\n    }\n\n    var skip = [];\n    if (window.requirejs) {\n      window.requirejs.config({'packages': {}, 'paths': {'gridstack': 'https://cdn.jsdelivr.net/npm/gridstack@4.2.5/dist/gridstack-h5', 'notyf': 'https://cdn.jsdelivr.net/npm/notyf@3/notyf.min'}, 'shim': {'gridstack': {'exports': 'GridStack'}}});\n      require([\"gridstack\"], function(GridStack) {\n\twindow.GridStack = GridStack\n\ton_load()\n      })\n      require([\"notyf\"], function() {\n\ton_load()\n      })\n      root._bokeh_is_loading = css_urls.length + 2;\n    } else {\n      root._bokeh_is_loading = css_urls.length + js_urls.length + js_modules.length;\n    }    if (((window['GridStack'] !== undefined) && (!(window['GridStack'] instanceof HTMLElement))) || window.requirejs) {\n      var urls = ['https://cdn.jsdelivr.net/npm/gridstack@4.2.5/dist/gridstack-h5.js'];\n      for (var i = 0; i < urls.length; i++) {\n        skip.push(urls[i])\n      }\n    }    if (((window['Notyf'] !== undefined) && (!(window['Notyf'] instanceof HTMLElement))) || window.requirejs) {\n      var urls = ['https://cdn.jsdelivr.net/npm/notyf@3/notyf.min.js'];\n      for (var i = 0; i < urls.length; i++) {\n        skip.push(urls[i])\n      }\n    }    for (var i = 0; i < js_urls.length; i++) {\n      var url = js_urls[i];\n      if (skip.indexOf(url) >= 0) {\n\tif (!window.requirejs) {\n\t  on_load();\n\t}\n\tcontinue;\n      }\n      var element = document.createElement('script');\n      element.onload = on_load;\n      element.onerror = on_error;\n      element.async = false;\n      element.src = url;\n      console.debug(\"Bokeh: injecting script tag for BokehJS library: \", url);\n      document.head.appendChild(element);\n    }\n    for (var i = 0; i < js_modules.length; i++) {\n      var url = js_modules[i];\n      if (skip.indexOf(url) >= 0) {\n\tif (!window.requirejs) {\n\t  on_load();\n\t}\n\tcontinue;\n      }\n      var element = document.createElement('script');\n      element.onload = on_load;\n      element.onerror = on_error;\n      element.async = false;\n      element.src = url;\n      element.type = \"module\";\n      console.debug(\"Bokeh: injecting script tag for BokehJS library: \", url);\n      document.head.appendChild(element);\n    }\n    if (!js_urls.length && !js_modules.length) {\n      on_load()\n    }\n  };\n\n  function inject_raw_css(css) {\n    const element = document.createElement(\"style\");\n    element.appendChild(document.createTextNode(css));\n    document.body.appendChild(element);\n  }\n\n  var js_urls = [\"https://cdn.bokeh.org/bokeh/release/bokeh-2.4.3.min.js\", \"https://cdn.bokeh.org/bokeh/release/bokeh-gl-2.4.3.min.js\", \"https://cdn.bokeh.org/bokeh/release/bokeh-widgets-2.4.3.min.js\", \"https://cdn.bokeh.org/bokeh/release/bokeh-tables-2.4.3.min.js\", \"https://cdn.bokeh.org/bokeh/release/bokeh-mathjax-2.4.3.min.js\", \"https://cdn.jsdelivr.net/npm/notyf@3/notyf.min.js\", \"https://unpkg.com/@holoviz/panel@0.13.1/dist/panel.min.js\"];\n  var js_modules = [];\n  var css_urls = [\"https://cdn.jsdelivr.net/npm/notyf@3/notyf.min.css\", \"https://cdnjs.cloudflare.com/ajax/libs/font-awesome/5.15.1/css/all.min.css\", \"https://unpkg.com/@holoviz/panel@0.13.1/dist/css/card.css\", \"https://unpkg.com/@holoviz/panel@0.13.1/dist/css/widgets.css\", \"https://unpkg.com/@holoviz/panel@0.13.1/dist/css/json.css\", \"https://unpkg.com/@holoviz/panel@0.13.1/dist/css/alerts.css\", \"https://unpkg.com/@holoviz/panel@0.13.1/dist/css/dataframe.css\", \"https://unpkg.com/@holoviz/panel@0.13.1/dist/css/loading.css\", \"https://unpkg.com/@holoviz/panel@0.13.1/dist/css/debugger.css\", \"https://unpkg.com/@holoviz/panel@0.13.1/dist/css/markdown.css\"];\n  var inline_js = [    function(Bokeh) {\n      inject_raw_css(\"\\n    .bk.pn-loading.arcs:before {\\n      background-image: url(\\\"data:image/svg+xml;base64,PHN2ZyB4bWxucz0iaHR0cDovL3d3dy53My5vcmcvMjAwMC9zdmciIHhtbG5zOnhsaW5rPSJodHRwOi8vd3d3LnczLm9yZy8xOTk5L3hsaW5rIiBzdHlsZT0ibWFyZ2luOiBhdXRvOyBiYWNrZ3JvdW5kOiBub25lOyBkaXNwbGF5OiBibG9jazsgc2hhcGUtcmVuZGVyaW5nOiBhdXRvOyIgdmlld0JveD0iMCAwIDEwMCAxMDAiIHByZXNlcnZlQXNwZWN0UmF0aW89InhNaWRZTWlkIj4gIDxjaXJjbGUgY3g9IjUwIiBjeT0iNTAiIHI9IjMyIiBzdHJva2Utd2lkdGg9IjgiIHN0cm9rZT0iI2MzYzNjMyIgc3Ryb2tlLWRhc2hhcnJheT0iNTAuMjY1NDgyNDU3NDM2NjkgNTAuMjY1NDgyNDU3NDM2NjkiIGZpbGw9Im5vbmUiIHN0cm9rZS1saW5lY2FwPSJyb3VuZCI+ICAgIDxhbmltYXRlVHJhbnNmb3JtIGF0dHJpYnV0ZU5hbWU9InRyYW5zZm9ybSIgdHlwZT0icm90YXRlIiByZXBlYXRDb3VudD0iaW5kZWZpbml0ZSIgZHVyPSIxcyIga2V5VGltZXM9IjA7MSIgdmFsdWVzPSIwIDUwIDUwOzM2MCA1MCA1MCI+PC9hbmltYXRlVHJhbnNmb3JtPiAgPC9jaXJjbGU+PC9zdmc+\\\");\\n      background-size: auto calc(min(50%, 400px));\\n    }\\n    \");\n    },    function(Bokeh) {\n      Bokeh.set_log_level(\"info\");\n    },\nfunction(Bokeh) {} // ensure no trailing comma for IE\n  ];\n\n  function run_inline_js() {\n    if ((root.Bokeh !== undefined) || (force === true)) {\n      for (var i = 0; i < inline_js.length; i++) {\n        inline_js[i].call(root, root.Bokeh);\n      }} else if (Date.now() < root._bokeh_timeout) {\n      setTimeout(run_inline_js, 100);\n    } else if (!root._bokeh_failed_load) {\n      console.log(\"Bokeh: BokehJS failed to load within specified timeout.\");\n      root._bokeh_failed_load = true;\n    }\n  }\n\n  if (root._bokeh_is_loading === 0) {\n    console.debug(\"Bokeh: BokehJS loaded, going straight to plotting\");\n    run_inline_js();\n  } else {\n    load_libs(css_urls, js_urls, js_modules, function() {\n      console.debug(\"Bokeh: BokehJS plotting callback run at\", now());\n      run_inline_js();\n    });\n  }\n}(window));",
      "application/vnd.holoviews_load.v0+json": ""
     },
     "metadata": {},
     "output_type": "display_data"
    },
    {
     "data": {
      "application/javascript": "\nif ((window.PyViz === undefined) || (window.PyViz instanceof HTMLElement)) {\n  window.PyViz = {comms: {}, comm_status:{}, kernels:{}, receivers: {}, plot_index: []}\n}\n\n\n    function JupyterCommManager() {\n    }\n\n    JupyterCommManager.prototype.register_target = function(plot_id, comm_id, msg_handler) {\n      if (window.comm_manager || ((window.Jupyter !== undefined) && (Jupyter.notebook.kernel != null))) {\n        var comm_manager = window.comm_manager || Jupyter.notebook.kernel.comm_manager;\n        comm_manager.register_target(comm_id, function(comm) {\n          comm.on_msg(msg_handler);\n        });\n      } else if ((plot_id in window.PyViz.kernels) && (window.PyViz.kernels[plot_id])) {\n        window.PyViz.kernels[plot_id].registerCommTarget(comm_id, function(comm) {\n          comm.onMsg = msg_handler;\n        });\n      } else if (typeof google != 'undefined' && google.colab.kernel != null) {\n        google.colab.kernel.comms.registerTarget(comm_id, (comm) => {\n          var messages = comm.messages[Symbol.asyncIterator]();\n          function processIteratorResult(result) {\n            var message = result.value;\n            console.log(message)\n            var content = {data: message.data, comm_id};\n            var buffers = []\n            for (var buffer of message.buffers || []) {\n              buffers.push(new DataView(buffer))\n            }\n            var metadata = message.metadata || {};\n            var msg = {content, buffers, metadata}\n            msg_handler(msg);\n            return messages.next().then(processIteratorResult);\n          }\n          return messages.next().then(processIteratorResult);\n        })\n      }\n    }\n\n    JupyterCommManager.prototype.get_client_comm = function(plot_id, comm_id, msg_handler) {\n      if (comm_id in window.PyViz.comms) {\n        return window.PyViz.comms[comm_id];\n      } else if (window.comm_manager || ((window.Jupyter !== undefined) && (Jupyter.notebook.kernel != null))) {\n        var comm_manager = window.comm_manager || Jupyter.notebook.kernel.comm_manager;\n        var comm = comm_manager.new_comm(comm_id, {}, {}, {}, comm_id);\n        if (msg_handler) {\n          comm.on_msg(msg_handler);\n        }\n      } else if ((plot_id in window.PyViz.kernels) && (window.PyViz.kernels[plot_id])) {\n        var comm = window.PyViz.kernels[plot_id].connectToComm(comm_id);\n        comm.open();\n        if (msg_handler) {\n          comm.onMsg = msg_handler;\n        }\n      } else if (typeof google != 'undefined' && google.colab.kernel != null) {\n        var comm_promise = google.colab.kernel.comms.open(comm_id)\n        comm_promise.then((comm) => {\n          window.PyViz.comms[comm_id] = comm;\n          if (msg_handler) {\n            var messages = comm.messages[Symbol.asyncIterator]();\n            function processIteratorResult(result) {\n              var message = result.value;\n              var content = {data: message.data};\n              var metadata = message.metadata || {comm_id};\n              var msg = {content, metadata}\n              msg_handler(msg);\n              return messages.next().then(processIteratorResult);\n            }\n            return messages.next().then(processIteratorResult);\n          }\n        }) \n        var sendClosure = (data, metadata, buffers, disposeOnDone) => {\n          return comm_promise.then((comm) => {\n            comm.send(data, metadata, buffers, disposeOnDone);\n          });\n        };\n        var comm = {\n          send: sendClosure\n        };\n      }\n      window.PyViz.comms[comm_id] = comm;\n      return comm;\n    }\n    window.PyViz.comm_manager = new JupyterCommManager();\n    \n\n\nvar JS_MIME_TYPE = 'application/javascript';\nvar HTML_MIME_TYPE = 'text/html';\nvar EXEC_MIME_TYPE = 'application/vnd.holoviews_exec.v0+json';\nvar CLASS_NAME = 'output';\n\n/**\n * Render data to the DOM node\n */\nfunction render(props, node) {\n  var div = document.createElement(\"div\");\n  var script = document.createElement(\"script\");\n  node.appendChild(div);\n  node.appendChild(script);\n}\n\n/**\n * Handle when a new output is added\n */\nfunction handle_add_output(event, handle) {\n  var output_area = handle.output_area;\n  var output = handle.output;\n  if ((output.data == undefined) || (!output.data.hasOwnProperty(EXEC_MIME_TYPE))) {\n    return\n  }\n  var id = output.metadata[EXEC_MIME_TYPE][\"id\"];\n  var toinsert = output_area.element.find(\".\" + CLASS_NAME.split(' ')[0]);\n  if (id !== undefined) {\n    var nchildren = toinsert.length;\n    var html_node = toinsert[nchildren-1].children[0];\n    html_node.innerHTML = output.data[HTML_MIME_TYPE];\n    var scripts = [];\n    var nodelist = html_node.querySelectorAll(\"script\");\n    for (var i in nodelist) {\n      if (nodelist.hasOwnProperty(i)) {\n        scripts.push(nodelist[i])\n      }\n    }\n\n    scripts.forEach( function (oldScript) {\n      var newScript = document.createElement(\"script\");\n      var attrs = [];\n      var nodemap = oldScript.attributes;\n      for (var j in nodemap) {\n        if (nodemap.hasOwnProperty(j)) {\n          attrs.push(nodemap[j])\n        }\n      }\n      attrs.forEach(function(attr) { newScript.setAttribute(attr.name, attr.value) });\n      newScript.appendChild(document.createTextNode(oldScript.innerHTML));\n      oldScript.parentNode.replaceChild(newScript, oldScript);\n    });\n    if (JS_MIME_TYPE in output.data) {\n      toinsert[nchildren-1].children[1].textContent = output.data[JS_MIME_TYPE];\n    }\n    output_area._hv_plot_id = id;\n    if ((window.Bokeh !== undefined) && (id in Bokeh.index)) {\n      window.PyViz.plot_index[id] = Bokeh.index[id];\n    } else {\n      window.PyViz.plot_index[id] = null;\n    }\n  } else if (output.metadata[EXEC_MIME_TYPE][\"server_id\"] !== undefined) {\n    var bk_div = document.createElement(\"div\");\n    bk_div.innerHTML = output.data[HTML_MIME_TYPE];\n    var script_attrs = bk_div.children[0].attributes;\n    for (var i = 0; i < script_attrs.length; i++) {\n      toinsert[toinsert.length - 1].childNodes[1].setAttribute(script_attrs[i].name, script_attrs[i].value);\n    }\n    // store reference to server id on output_area\n    output_area._bokeh_server_id = output.metadata[EXEC_MIME_TYPE][\"server_id\"];\n  }\n}\n\n/**\n * Handle when an output is cleared or removed\n */\nfunction handle_clear_output(event, handle) {\n  var id = handle.cell.output_area._hv_plot_id;\n  var server_id = handle.cell.output_area._bokeh_server_id;\n  if (((id === undefined) || !(id in PyViz.plot_index)) && (server_id !== undefined)) { return; }\n  var comm = window.PyViz.comm_manager.get_client_comm(\"hv-extension-comm\", \"hv-extension-comm\", function () {});\n  if (server_id !== null) {\n    comm.send({event_type: 'server_delete', 'id': server_id});\n    return;\n  } else if (comm !== null) {\n    comm.send({event_type: 'delete', 'id': id});\n  }\n  delete PyViz.plot_index[id];\n  if ((window.Bokeh !== undefined) & (id in window.Bokeh.index)) {\n    var doc = window.Bokeh.index[id].model.document\n    doc.clear();\n    const i = window.Bokeh.documents.indexOf(doc);\n    if (i > -1) {\n      window.Bokeh.documents.splice(i, 1);\n    }\n  }\n}\n\n/**\n * Handle kernel restart event\n */\nfunction handle_kernel_cleanup(event, handle) {\n  delete PyViz.comms[\"hv-extension-comm\"];\n  window.PyViz.plot_index = {}\n}\n\n/**\n * Handle update_display_data messages\n */\nfunction handle_update_output(event, handle) {\n  handle_clear_output(event, {cell: {output_area: handle.output_area}})\n  handle_add_output(event, handle)\n}\n\nfunction register_renderer(events, OutputArea) {\n  function append_mime(data, metadata, element) {\n    // create a DOM node to render to\n    var toinsert = this.create_output_subarea(\n    metadata,\n    CLASS_NAME,\n    EXEC_MIME_TYPE\n    );\n    this.keyboard_manager.register_events(toinsert);\n    // Render to node\n    var props = {data: data, metadata: metadata[EXEC_MIME_TYPE]};\n    render(props, toinsert[0]);\n    element.append(toinsert);\n    return toinsert\n  }\n\n  events.on('output_added.OutputArea', handle_add_output);\n  events.on('output_updated.OutputArea', handle_update_output);\n  events.on('clear_output.CodeCell', handle_clear_output);\n  events.on('delete.Cell', handle_clear_output);\n  events.on('kernel_ready.Kernel', handle_kernel_cleanup);\n\n  OutputArea.prototype.register_mime_type(EXEC_MIME_TYPE, append_mime, {\n    safe: true,\n    index: 0\n  });\n}\n\nif (window.Jupyter !== undefined) {\n  try {\n    var events = require('base/js/events');\n    var OutputArea = require('notebook/js/outputarea').OutputArea;\n    if (OutputArea.prototype.mime_types().indexOf(EXEC_MIME_TYPE) == -1) {\n      register_renderer(events, OutputArea);\n    }\n  } catch(err) {\n  }\n}\n",
      "application/vnd.holoviews_load.v0+json": ""
     },
     "metadata": {},
     "output_type": "display_data"
    },
    {
     "data": {
      "text/html": [
       "<style>.bk-root, .bk-root .bk:before, .bk-root .bk:after {\n",
       "  font-family: var(--jp-ui-font-size1);\n",
       "  font-size: var(--jp-ui-font-size1);\n",
       "  color: var(--jp-ui-font-color1);\n",
       "}\n",
       "</style>"
      ]
     },
     "metadata": {},
     "output_type": "display_data"
    }
   ],
   "source": [
    "import requests # This is the library we use to make HTTP requests\n",
    "from IPython.display import JSON # This is the library we use to display JSON nicely in the notebook\n",
    "import pandas as pd # This is the library we use to display data nicely in the notebook\n",
    "import numpy as np # This is the library we use to do math\n",
    "import time # This is the library we use to get the current time (for timestamps)\n",
    "import os # This is the library we use to get the current working directory\n",
    "\n",
    "#Visualizations\n",
    "from wordcloud import WordCloud, STOPWORDS # This is the library we use to generate word clouds from text data, and to filter out common words\n",
    "import plotly.express as px # This is the library we use to generate interactive visualizations (like the map) from data\n",
    "\n",
    "#Panel/hvplot \n",
    "import panel as pn # panel is a library that allows us to create interactive visualizations \n",
    "pn.extension() # pn.extension() is a command we use to enable the interactive features of the library \n",
    "import param # param is a library that allows us to create interactive visualizations\n",
    "import hvplot.pandas # hvplot is a library that allows us to create interactive visualizations\n",
    "\n",
    "#Others\n",
    "import pickle # This is the library we use to save and load data from files\n",
    "from io import StringIO # This is the library we use to read data from strings (like the CSV data we get from the API)\n"
   ]
  },
  {
   "cell_type": "code",
   "execution_count": 7,
   "metadata": {},
   "outputs": [],
   "source": [
    "# API key\n",
    "from api_key import API_KEY # This is the file we created to store our API key in a variable called API_KEY"
   ]
  },
  {
   "cell_type": "code",
   "execution_count": 11,
   "metadata": {},
   "outputs": [
    {
     "name": "stdout",
     "output_type": "stream",
     "text": [
      "{'id': 'ovrftaqrb5-8daf-4da8-a6d4-f059e32eb0f5', 'language_model': 'assemblyai_default', 'acoustic_model': 'assemblyai_default', 'language_code': 'en_us', 'status': 'queued', 'audio_url': 'https://github.com/KevinArce/AudioAI/blob/master/Harry%20Styles%20-%20As%20It%20Was.mp3?raw=true', 'text': None, 'words': None, 'utterances': None, 'confidence': None, 'audio_duration': None, 'punctuate': True, 'format_text': True, 'dual_channel': None, 'webhook_url': None, 'webhook_status_code': None, 'webhook_auth': False, 'webhook_auth_header_name': None, 'speed_boost': False, 'auto_highlights_result': None, 'auto_highlights': True, 'audio_start_from': None, 'audio_end_at': None, 'word_boost': [], 'boost_param': None, 'filter_profanity': False, 'redact_pii': False, 'redact_pii_audio': False, 'redact_pii_audio_quality': None, 'redact_pii_policies': None, 'redact_pii_sub': None, 'speaker_labels': False, 'content_safety': False, 'iab_categories': True, 'content_safety_labels': {}, 'iab_categories_result': {}, 'language_detection': False, 'custom_spelling': None, 'disfluencies': False, 'sentiment_analysis': True, 'sentiment_analysis_results': None, 'auto_chapters': True, 'chapters': None, 'entity_detection': False, 'entities': None}\n"
     ]
    }
   ],
   "source": [
    "# Submitting Files for Transcription\n",
    "import requests\n",
    "endpoint = \"https://api.assemblyai.com/v2/transcript\"\n",
    "json = {\n",
    "    \"audio_url\": \"https://github.com/KevinArce/AudioAI/blob/master/Harry%20Styles%20-%20As%20It%20Was.mp3?raw=true\",\n",
    "    \"auto_highlights\": True,\n",
    "    \"sentiment_analysis\": True,\n",
    "    \"auto_chapters\": True,\n",
    "    \"iab_categories\": True,\n",
    "}\n",
    "headers = {\n",
    "    \"authorization\": API_KEY,\n",
    "    \"content-type\": \"application/json\"\n",
    "}\n",
    "response = requests.post(endpoint, json=json, headers=headers)\n",
    "print(response.json())"
   ]
  },
  {
   "cell_type": "code",
   "execution_count": 12,
   "metadata": {},
   "outputs": [
    {
     "name": "stdout",
     "output_type": "stream",
     "text": [
      "{'id': 'ovrftaqrb5-8daf-4da8-a6d4-f059e32eb0f5', 'language_model': 'assemblyai_default', 'acoustic_model': 'assemblyai_default', 'language_code': 'en_us', 'status': 'completed', 'audio_url': 'https://github.com/KevinArce/AudioAI/blob/master/Harry%20Styles%20-%20As%20It%20Was.mp3?raw=true', 'text': \"Come on, Harry. We wanna say goodnight to you. You always knew. Why don't we leave it? There's nothing to say and everything gets in the way. You know it's not the same as it was in this world. It just loved the same as it was you.\", 'words': [{'text': 'Come', 'start': 310, 'end': 474, 'confidence': 0.97301, 'speaker': None}, {'text': 'on,', 'start': 512, 'end': 714, 'confidence': 0.999, 'speaker': None}, {'text': 'Harry.', 'start': 752, 'end': 1054, 'confidence': 0.9, 'speaker': None}, {'text': 'We', 'start': 1102, 'end': 1350, 'confidence': 0.89978, 'speaker': None}, {'text': 'wanna', 'start': 1400, 'end': 1686, 'confidence': 0.80924, 'speaker': None}, {'text': 'say', 'start': 1748, 'end': 1974, 'confidence': 0.93063, 'speaker': None}, {'text': 'goodnight', 'start': 2012, 'end': 2434, 'confidence': 0.52207, 'speaker': None}, {'text': 'to', 'start': 2482, 'end': 2694, 'confidence': 0.87, 'speaker': None}, {'text': 'you.', 'start': 2732, 'end': 3320, 'confidence': 1.0, 'speaker': None}, {'text': 'You', 'start': 20790, 'end': 21118, 'confidence': 0.46, 'speaker': None}, {'text': 'always', 'start': 21144, 'end': 21442, 'confidence': 0.35891, 'speaker': None}, {'text': 'knew.', 'start': 21516, 'end': 21826, 'confidence': 0.23484, 'speaker': None}, {'text': 'Why', 'start': 21888, 'end': 22078, 'confidence': 0.99016, 'speaker': None}, {'text': \"don't\", 'start': 22104, 'end': 22358, 'confidence': 0.58574, 'speaker': None}, {'text': 'we', 'start': 22394, 'end': 22594, 'confidence': 0.9957, 'speaker': None}, {'text': 'leave', 'start': 22632, 'end': 22834, 'confidence': 0.87542, 'speaker': None}, {'text': 'it?', 'start': 22872, 'end': 23182, 'confidence': 0.51, 'speaker': None}, {'text': \"There's\", 'start': 23256, 'end': 25298, 'confidence': 0.26189, 'speaker': None}, {'text': 'nothing', 'start': 25334, 'end': 25678, 'confidence': 0.97409, 'speaker': None}, {'text': 'to', 'start': 25764, 'end': 25978, 'confidence': 0.94, 'speaker': None}, {'text': 'say', 'start': 26004, 'end': 26580, 'confidence': 0.90216, 'speaker': None}, {'text': 'and', 'start': 27090, 'end': 27490, 'confidence': 0.47, 'speaker': None}, {'text': 'everything', 'start': 27540, 'end': 27970, 'confidence': 0.99632, 'speaker': None}, {'text': 'gets', 'start': 28080, 'end': 28426, 'confidence': 0.71954, 'speaker': None}, {'text': 'in', 'start': 28488, 'end': 28642, 'confidence': 0.56177, 'speaker': None}, {'text': 'the', 'start': 28656, 'end': 28798, 'confidence': 0.94, 'speaker': None}, {'text': 'way.', 'start': 28824, 'end': 29400, 'confidence': 0.62, 'speaker': None}, {'text': 'You', 'start': 44230, 'end': 44522, 'confidence': 0.54, 'speaker': None}, {'text': 'know', 'start': 44536, 'end': 44894, 'confidence': 0.9976, 'speaker': None}, {'text': \"it's\", 'start': 44992, 'end': 45378, 'confidence': 0.63899, 'speaker': None}, {'text': 'not', 'start': 45414, 'end': 45650, 'confidence': 0.96714, 'speaker': None}, {'text': 'the', 'start': 45700, 'end': 45914, 'confidence': 0.91, 'speaker': None}, {'text': 'same', 'start': 45952, 'end': 46478, 'confidence': 0.93171, 'speaker': None}, {'text': 'as', 'start': 46624, 'end': 47042, 'confidence': 0.7706, 'speaker': None}, {'text': 'it', 'start': 47116, 'end': 47354, 'confidence': 0.98, 'speaker': None}, {'text': 'was', 'start': 47392, 'end': 47980, 'confidence': 0.5627, 'speaker': None}, {'text': 'in', 'start': 48850, 'end': 49322, 'confidence': 0.71505, 'speaker': None}, {'text': 'this', 'start': 49396, 'end': 49778, 'confidence': 0.97, 'speaker': None}, {'text': 'world.', 'start': 49864, 'end': 50500, 'confidence': 0.95985, 'speaker': None}, {'text': 'It', 'start': 51550, 'end': 52022, 'confidence': 0.59, 'speaker': None}, {'text': 'just', 'start': 52096, 'end': 52514, 'confidence': 0.49, 'speaker': None}, {'text': 'loved', 'start': 52612, 'end': 53510, 'confidence': 0.13617, 'speaker': None}, {'text': 'the', 'start': 56590, 'end': 57026, 'confidence': 0.75, 'speaker': None}, {'text': 'same', 'start': 57088, 'end': 57530, 'confidence': 0.87054, 'speaker': None}, {'text': 'as', 'start': 57640, 'end': 58058, 'confidence': 0.81989, 'speaker': None}, {'text': 'it', 'start': 58144, 'end': 58430, 'confidence': 0.47, 'speaker': None}, {'text': 'was', 'start': 58480, 'end': 59080, 'confidence': 0.66627, 'speaker': None}, {'text': 'you.', 'start': 166830, 'end': 167080, 'confidence': 0.67, 'speaker': None}], 'utterances': None, 'confidence': 0.74389125, 'audio_duration': 167, 'punctuate': True, 'format_text': True, 'dual_channel': None, 'webhook_url': None, 'webhook_status_code': None, 'webhook_auth': False, 'webhook_auth_header_name': None, 'speed_boost': False, 'auto_highlights_result': {'status': 'success', 'results': [{'count': 1, 'rank': 0.15, 'text': 'Harry', 'timestamps': [{'start': 752, 'end': 1054}]}, {'count': 1, 'rank': 0.06, 'text': 'way', 'timestamps': [{'start': 28824, 'end': 29400}]}, {'count': 1, 'rank': 0.03, 'text': 'world', 'timestamps': [{'start': 49864, 'end': 50500}]}]}, 'auto_highlights': True, 'audio_start_from': None, 'audio_end_at': None, 'word_boost': [], 'boost_param': None, 'filter_profanity': False, 'redact_pii': False, 'redact_pii_audio': False, 'redact_pii_audio_quality': None, 'redact_pii_policies': None, 'redact_pii_sub': None, 'speaker_labels': False, 'content_safety': False, 'iab_categories': True, 'content_safety_labels': {'status': 'unavailable', 'results': [], 'summary': {}}, 'iab_categories_result': {'status': 'success', 'results': [{'text': \"Come on, Harry. We wanna say goodnight to you. You always knew. Why don't we leave it? There's nothing to say and everything gets in the way. You know it's not the same as it was in this world. It just loved the same as it was you.\", 'labels': [{'relevance': 0.5804219245910645, 'label': 'EventsAndAttractions>PersonalCelebrations&LifeEvents>Funeral'}, {'relevance': 0.3673870265483856, 'label': 'FamilyAndRelationships>Bereavement'}, {'relevance': 0.0081687793135643, 'label': 'PopCulture>CelebrityDeaths'}, {'relevance': 0.0018428346375003457, 'label': 'EventsAndAttractions>PersonalCelebrations&LifeEvents>Birthday'}, {'relevance': 0.0017041414976119995, 'label': 'Hobbies&Interests>ParanormalPhenomena'}, {'relevance': 0.0012650452554225922, 'label': 'PopCulture>CelebrityPregnancy'}, {'relevance': 0.000953048060182482, 'label': 'FamilyAndRelationships>Parenting>ParentingChildrenAged4-11'}, {'relevance': 0.0006425516912713647, 'label': 'Food&Drink>DessertsAndBaking'}, {'relevance': 0.0006316571962088346, 'label': 'Movies>RomanceMovies'}, {'relevance': 0.0005369735299609601, 'label': 'Religion&Spirituality>Agnosticism'}], 'timestamp': {'start': 310, 'end': 167080}}], 'summary': {'EventsAndAttractions>PersonalCelebrations&LifeEvents>Funeral': 1.0, 'FamilyAndRelationships>Bereavement': 0.6329654455184937, 'PopCulture>CelebrityDeaths': 0.014073864556849003, 'EventsAndAttractions>PersonalCelebrations&LifeEvents>Birthday': 0.0031749913468956947, 'Hobbies&Interests>ParanormalPhenomena': 0.0029360391199588776, 'PopCulture>CelebrityPregnancy': 0.0021795269567519426, 'FamilyAndRelationships>Parenting>ParentingChildrenAged4-11': 0.0016419917810708284, 'Food&Drink>DessertsAndBaking': 0.0011070424225181341, 'Movies>RomanceMovies': 0.001088272430934012, 'Religion&Spirituality>Agnosticism': 0.0009251434239558876, \"Style&Fashion>Women'sFashion>Women'sClothing>Women'sFormalWear\": 0.000870100746396929, 'Style&Fashion>BodyArt': 0.0008385788532905281, 'EventsAndAttractions>PersonalCelebrations&LifeEvents>Anniversary': 0.0008347440743818879, 'MedicalHealth>DiseasesAndConditions>Cancer': 0.0008140801801346242, \"HealthyLiving>Men'sHealth\": 0.0007668680627830327, 'Pets>Cats': 0.0007235326338559389, 'BusinessAndFinance>Industries>AutomotiveIndustry': 0.000700568372849375, 'Science>SpaceAndAstronomy': 0.0006929043447598815, 'FamilyAndRelationships>SingleLife': 0.0006554981810040772, 'EventsAndAttractions>Concerts&MusicEvents': 0.0006444556638598442}}, 'language_detection': False, 'custom_spelling': None, 'disfluencies': False, 'sentiment_analysis': True, 'auto_chapters': True, 'chapters': [{'summary': 'Harry wants to say goodnight to you.', 'headline': 'Harry wants to say goodnight to you.', 'gist': 'Say goodnight to harry.', 'start': 310, 'end': 167080}], 'sentiment_analysis_results': [{'text': 'Come on, Harry.', 'start': 310, 'end': 1054, 'sentiment': 'NEUTRAL', 'confidence': 0.6975288987159729, 'speaker': None}, {'text': 'We wanna say goodnight to you.', 'start': 1102, 'end': 3320, 'sentiment': 'NEUTRAL', 'confidence': 0.5394635796546936, 'speaker': None}, {'text': 'You always knew.', 'start': 20790, 'end': 21826, 'sentiment': 'NEUTRAL', 'confidence': 0.5824252367019653, 'speaker': None}, {'text': \"Why don't we leave it?\", 'start': 21888, 'end': 23182, 'sentiment': 'NEUTRAL', 'confidence': 0.6849178671836853, 'speaker': None}, {'text': \"There's nothing to say and everything gets in the way.\", 'start': 23256, 'end': 29400, 'sentiment': 'NEGATIVE', 'confidence': 0.8575221300125122, 'speaker': None}, {'text': \"You know it's not the same as it was in this world.\", 'start': 44230, 'end': 50500, 'sentiment': 'NEGATIVE', 'confidence': 0.7741486430168152, 'speaker': None}, {'text': 'It just loved the same as it was you.', 'start': 51550, 'end': 167080, 'sentiment': 'POSITIVE', 'confidence': 0.6753351092338562, 'speaker': None}], 'entity_detection': False, 'entities': None}\n"
     ]
    }
   ],
   "source": [
    "result_endpoint = f\"{endpoint}/\" + response.json()[\"id\"] # This is the endpoint we use to get the results of the transcription\n",
    "headers_auth = {\n",
    "    \"authorization\": API_KEY, # This is the header we use to authenticate our request\n",
    "}\n",
    "transcript_response = requests.get(result_endpoint, headers=headers_auth) # This is the response we get from the API when we make a GET request to the endpoint\n",
    "print(transcript_response.json()) # This is the JSON data we get from the API \n",
    "\n",
    "# While the transcription is still processing, we wait for it to finish\n",
    "while transcript_response.json()[\"status\"] == \"processing\":\n",
    "    time.sleep(1) # This is a command we use to wait for 1 second\n",
    "    transcript_response = requests.get(result_endpoint, headers=headers_auth) # This is the response we get from the API when we make a GET request to the endpoint\n",
    "    print(transcript_response.json()) # This is the JSON data we get from the API"
   ]
  },
  {
   "cell_type": "code",
   "execution_count": 13,
   "metadata": {},
   "outputs": [
    {
     "data": {
      "application/json": {
       "acoustic_model": "assemblyai_default",
       "audio_duration": 167,
       "audio_end_at": null,
       "audio_start_from": null,
       "audio_url": "https://github.com/KevinArce/AudioAI/blob/master/Harry%20Styles%20-%20As%20It%20Was.mp3?raw=true",
       "auto_chapters": true,
       "auto_highlights": true,
       "auto_highlights_result": {
        "results": [
         {
          "count": 1,
          "rank": 0.15,
          "text": "Harry",
          "timestamps": [
           {
            "end": 1054,
            "start": 752
           }
          ]
         },
         {
          "count": 1,
          "rank": 0.06,
          "text": "way",
          "timestamps": [
           {
            "end": 29400,
            "start": 28824
           }
          ]
         },
         {
          "count": 1,
          "rank": 0.03,
          "text": "world",
          "timestamps": [
           {
            "end": 50500,
            "start": 49864
           }
          ]
         }
        ],
        "status": "success"
       },
       "boost_param": null,
       "chapters": [
        {
         "end": 167080,
         "gist": "Say goodnight to harry.",
         "headline": "Harry wants to say goodnight to you.",
         "start": 310,
         "summary": "Harry wants to say goodnight to you."
        }
       ],
       "confidence": 0.74389125,
       "content_safety": false,
       "content_safety_labels": {
        "results": [],
        "status": "unavailable",
        "summary": {}
       },
       "custom_spelling": null,
       "disfluencies": false,
       "dual_channel": null,
       "entities": null,
       "entity_detection": false,
       "filter_profanity": false,
       "format_text": true,
       "iab_categories": true,
       "iab_categories_result": {
        "results": [
         {
          "labels": [
           {
            "label": "EventsAndAttractions>PersonalCelebrations&LifeEvents>Funeral",
            "relevance": 0.5804219245910645
           },
           {
            "label": "FamilyAndRelationships>Bereavement",
            "relevance": 0.3673870265483856
           },
           {
            "label": "PopCulture>CelebrityDeaths",
            "relevance": 0.0081687793135643
           },
           {
            "label": "EventsAndAttractions>PersonalCelebrations&LifeEvents>Birthday",
            "relevance": 0.0018428346375003457
           },
           {
            "label": "Hobbies&Interests>ParanormalPhenomena",
            "relevance": 0.0017041414976119995
           },
           {
            "label": "PopCulture>CelebrityPregnancy",
            "relevance": 0.0012650452554225922
           },
           {
            "label": "FamilyAndRelationships>Parenting>ParentingChildrenAged4-11",
            "relevance": 0.000953048060182482
           },
           {
            "label": "Food&Drink>DessertsAndBaking",
            "relevance": 0.0006425516912713647
           },
           {
            "label": "Movies>RomanceMovies",
            "relevance": 0.0006316571962088346
           },
           {
            "label": "Religion&Spirituality>Agnosticism",
            "relevance": 0.0005369735299609601
           }
          ],
          "text": "Come on, Harry. We wanna say goodnight to you. You always knew. Why don't we leave it? There's nothing to say and everything gets in the way. You know it's not the same as it was in this world. It just loved the same as it was you.",
          "timestamp": {
           "end": 167080,
           "start": 310
          }
         }
        ],
        "status": "success",
        "summary": {
         "BusinessAndFinance>Industries>AutomotiveIndustry": 0.000700568372849375,
         "EventsAndAttractions>Concerts&MusicEvents": 0.0006444556638598442,
         "EventsAndAttractions>PersonalCelebrations&LifeEvents>Anniversary": 0.0008347440743818879,
         "EventsAndAttractions>PersonalCelebrations&LifeEvents>Birthday": 0.0031749913468956947,
         "EventsAndAttractions>PersonalCelebrations&LifeEvents>Funeral": 1,
         "FamilyAndRelationships>Bereavement": 0.6329654455184937,
         "FamilyAndRelationships>Parenting>ParentingChildrenAged4-11": 0.0016419917810708284,
         "FamilyAndRelationships>SingleLife": 0.0006554981810040772,
         "Food&Drink>DessertsAndBaking": 0.0011070424225181341,
         "HealthyLiving>Men'sHealth": 0.0007668680627830327,
         "Hobbies&Interests>ParanormalPhenomena": 0.0029360391199588776,
         "MedicalHealth>DiseasesAndConditions>Cancer": 0.0008140801801346242,
         "Movies>RomanceMovies": 0.001088272430934012,
         "Pets>Cats": 0.0007235326338559389,
         "PopCulture>CelebrityDeaths": 0.014073864556849003,
         "PopCulture>CelebrityPregnancy": 0.0021795269567519426,
         "Religion&Spirituality>Agnosticism": 0.0009251434239558876,
         "Science>SpaceAndAstronomy": 0.0006929043447598815,
         "Style&Fashion>BodyArt": 0.0008385788532905281,
         "Style&Fashion>Women'sFashion>Women'sClothing>Women'sFormalWear": 0.000870100746396929
        }
       },
       "id": "ovrftaqrb5-8daf-4da8-a6d4-f059e32eb0f5",
       "language_code": "en_us",
       "language_detection": false,
       "language_model": "assemblyai_default",
       "punctuate": true,
       "redact_pii": false,
       "redact_pii_audio": false,
       "redact_pii_audio_quality": null,
       "redact_pii_policies": null,
       "redact_pii_sub": null,
       "sentiment_analysis": true,
       "sentiment_analysis_results": [
        {
         "confidence": 0.6975288987159729,
         "end": 1054,
         "sentiment": "NEUTRAL",
         "speaker": null,
         "start": 310,
         "text": "Come on, Harry."
        },
        {
         "confidence": 0.5394635796546936,
         "end": 3320,
         "sentiment": "NEUTRAL",
         "speaker": null,
         "start": 1102,
         "text": "We wanna say goodnight to you."
        },
        {
         "confidence": 0.5824252367019653,
         "end": 21826,
         "sentiment": "NEUTRAL",
         "speaker": null,
         "start": 20790,
         "text": "You always knew."
        },
        {
         "confidence": 0.6849178671836853,
         "end": 23182,
         "sentiment": "NEUTRAL",
         "speaker": null,
         "start": 21888,
         "text": "Why don't we leave it?"
        },
        {
         "confidence": 0.8575221300125122,
         "end": 29400,
         "sentiment": "NEGATIVE",
         "speaker": null,
         "start": 23256,
         "text": "There's nothing to say and everything gets in the way."
        },
        {
         "confidence": 0.7741486430168152,
         "end": 50500,
         "sentiment": "NEGATIVE",
         "speaker": null,
         "start": 44230,
         "text": "You know it's not the same as it was in this world."
        },
        {
         "confidence": 0.6753351092338562,
         "end": 167080,
         "sentiment": "POSITIVE",
         "speaker": null,
         "start": 51550,
         "text": "It just loved the same as it was you."
        }
       ],
       "speaker_labels": false,
       "speed_boost": false,
       "status": "completed",
       "text": "Come on, Harry. We wanna say goodnight to you. You always knew. Why don't we leave it? There's nothing to say and everything gets in the way. You know it's not the same as it was in this world. It just loved the same as it was you.",
       "utterances": null,
       "webhook_auth": false,
       "webhook_auth_header_name": null,
       "webhook_status_code": null,
       "webhook_url": null,
       "word_boost": [],
       "words": [
        {
         "confidence": 0.97301,
         "end": 474,
         "speaker": null,
         "start": 310,
         "text": "Come"
        },
        {
         "confidence": 0.999,
         "end": 714,
         "speaker": null,
         "start": 512,
         "text": "on,"
        },
        {
         "confidence": 0.9,
         "end": 1054,
         "speaker": null,
         "start": 752,
         "text": "Harry."
        },
        {
         "confidence": 0.89978,
         "end": 1350,
         "speaker": null,
         "start": 1102,
         "text": "We"
        },
        {
         "confidence": 0.80924,
         "end": 1686,
         "speaker": null,
         "start": 1400,
         "text": "wanna"
        },
        {
         "confidence": 0.93063,
         "end": 1974,
         "speaker": null,
         "start": 1748,
         "text": "say"
        },
        {
         "confidence": 0.52207,
         "end": 2434,
         "speaker": null,
         "start": 2012,
         "text": "goodnight"
        },
        {
         "confidence": 0.87,
         "end": 2694,
         "speaker": null,
         "start": 2482,
         "text": "to"
        },
        {
         "confidence": 1,
         "end": 3320,
         "speaker": null,
         "start": 2732,
         "text": "you."
        },
        {
         "confidence": 0.46,
         "end": 21118,
         "speaker": null,
         "start": 20790,
         "text": "You"
        },
        {
         "confidence": 0.35891,
         "end": 21442,
         "speaker": null,
         "start": 21144,
         "text": "always"
        },
        {
         "confidence": 0.23484,
         "end": 21826,
         "speaker": null,
         "start": 21516,
         "text": "knew."
        },
        {
         "confidence": 0.99016,
         "end": 22078,
         "speaker": null,
         "start": 21888,
         "text": "Why"
        },
        {
         "confidence": 0.58574,
         "end": 22358,
         "speaker": null,
         "start": 22104,
         "text": "don't"
        },
        {
         "confidence": 0.9957,
         "end": 22594,
         "speaker": null,
         "start": 22394,
         "text": "we"
        },
        {
         "confidence": 0.87542,
         "end": 22834,
         "speaker": null,
         "start": 22632,
         "text": "leave"
        },
        {
         "confidence": 0.51,
         "end": 23182,
         "speaker": null,
         "start": 22872,
         "text": "it?"
        },
        {
         "confidence": 0.26189,
         "end": 25298,
         "speaker": null,
         "start": 23256,
         "text": "There's"
        },
        {
         "confidence": 0.97409,
         "end": 25678,
         "speaker": null,
         "start": 25334,
         "text": "nothing"
        },
        {
         "confidence": 0.94,
         "end": 25978,
         "speaker": null,
         "start": 25764,
         "text": "to"
        },
        {
         "confidence": 0.90216,
         "end": 26580,
         "speaker": null,
         "start": 26004,
         "text": "say"
        },
        {
         "confidence": 0.47,
         "end": 27490,
         "speaker": null,
         "start": 27090,
         "text": "and"
        },
        {
         "confidence": 0.99632,
         "end": 27970,
         "speaker": null,
         "start": 27540,
         "text": "everything"
        },
        {
         "confidence": 0.71954,
         "end": 28426,
         "speaker": null,
         "start": 28080,
         "text": "gets"
        },
        {
         "confidence": 0.56177,
         "end": 28642,
         "speaker": null,
         "start": 28488,
         "text": "in"
        },
        {
         "confidence": 0.94,
         "end": 28798,
         "speaker": null,
         "start": 28656,
         "text": "the"
        },
        {
         "confidence": 0.62,
         "end": 29400,
         "speaker": null,
         "start": 28824,
         "text": "way."
        },
        {
         "confidence": 0.54,
         "end": 44522,
         "speaker": null,
         "start": 44230,
         "text": "You"
        },
        {
         "confidence": 0.9976,
         "end": 44894,
         "speaker": null,
         "start": 44536,
         "text": "know"
        },
        {
         "confidence": 0.63899,
         "end": 45378,
         "speaker": null,
         "start": 44992,
         "text": "it's"
        },
        {
         "confidence": 0.96714,
         "end": 45650,
         "speaker": null,
         "start": 45414,
         "text": "not"
        },
        {
         "confidence": 0.91,
         "end": 45914,
         "speaker": null,
         "start": 45700,
         "text": "the"
        },
        {
         "confidence": 0.93171,
         "end": 46478,
         "speaker": null,
         "start": 45952,
         "text": "same"
        },
        {
         "confidence": 0.7706,
         "end": 47042,
         "speaker": null,
         "start": 46624,
         "text": "as"
        },
        {
         "confidence": 0.98,
         "end": 47354,
         "speaker": null,
         "start": 47116,
         "text": "it"
        },
        {
         "confidence": 0.5627,
         "end": 47980,
         "speaker": null,
         "start": 47392,
         "text": "was"
        },
        {
         "confidence": 0.71505,
         "end": 49322,
         "speaker": null,
         "start": 48850,
         "text": "in"
        },
        {
         "confidence": 0.97,
         "end": 49778,
         "speaker": null,
         "start": 49396,
         "text": "this"
        },
        {
         "confidence": 0.95985,
         "end": 50500,
         "speaker": null,
         "start": 49864,
         "text": "world."
        },
        {
         "confidence": 0.59,
         "end": 52022,
         "speaker": null,
         "start": 51550,
         "text": "It"
        },
        {
         "confidence": 0.49,
         "end": 52514,
         "speaker": null,
         "start": 52096,
         "text": "just"
        },
        {
         "confidence": 0.13617,
         "end": 53510,
         "speaker": null,
         "start": 52612,
         "text": "loved"
        },
        {
         "confidence": 0.75,
         "end": 57026,
         "speaker": null,
         "start": 56590,
         "text": "the"
        },
        {
         "confidence": 0.87054,
         "end": 57530,
         "speaker": null,
         "start": 57088,
         "text": "same"
        },
        {
         "confidence": 0.81989,
         "end": 58058,
         "speaker": null,
         "start": 57640,
         "text": "as"
        },
        {
         "confidence": 0.47,
         "end": 58430,
         "speaker": null,
         "start": 58144,
         "text": "it"
        },
        {
         "confidence": 0.66627,
         "end": 59080,
         "speaker": null,
         "start": 58480,
         "text": "was"
        },
        {
         "confidence": 0.67,
         "end": 167080,
         "speaker": null,
         "start": 166830,
         "text": "you."
        }
       ]
      },
      "text/plain": [
       "<IPython.core.display.JSON object>"
      ]
     },
     "execution_count": 13,
     "metadata": {
      "application/json": {
       "expanded": false,
       "root": "root"
      }
     },
     "output_type": "execute_result"
    }
   ],
   "source": [
    "JSON(transcript_response.json()) # This is a command we use to display the JSON data nicely in the notebook "
   ]
  },
  {
   "cell_type": "code",
   "execution_count": 14,
   "metadata": {},
   "outputs": [],
   "source": [
    "# Save pickle\n",
    "with open('speech_data.pkl', 'wb') as f: \n",
    "    pickle.dump(transcript_response.json().copy(), f) # This is a command we use to save the data to a file called speech_data.pkl"
   ]
  },
  {
   "cell_type": "code",
   "execution_count": 15,
   "metadata": {},
   "outputs": [],
   "source": [
    "# Load data pickle\n",
    "with open('speech_data.pkl', 'rb') as f:\n",
    "    data = pickle.load(f) # This is a command we use to load the data from the file called speech_data.pkl"
   ]
  },
  {
   "cell_type": "code",
   "execution_count": 16,
   "metadata": {},
   "outputs": [
    {
     "data": {
      "text/plain": [
       "0"
      ]
     },
     "execution_count": 16,
     "metadata": {},
     "output_type": "execute_result"
    }
   ],
   "source": [
    "buffer = StringIO() # This is a command we use to create a buffer to hold the data\n",
    "buffer.write(data[\"text\"]) # This is a command we use to write the data to the buffer\n",
    "buffer.seek(0) # This is a command we use to move the buffer to the beginning of the data"
   ]
  },
  {
   "cell_type": "code",
   "execution_count": 23,
   "metadata": {},
   "outputs": [
    {
     "name": "stderr",
     "output_type": "stream",
     "text": [
      "WARNING:param.FileDownload00788: Setting non-parameter attribute botton_type=primary using a mechanism intended only for parameters\n"
     ]
    },
    {
     "data": {},
     "metadata": {},
     "output_type": "display_data"
    },
    {
     "data": {
      "application/vnd.holoviews_exec.v0+json": "",
      "text/html": [
       "<div id='1007'>\n",
       "  <div class=\"bk-root\" id=\"18a115cc-b3b8-4bc0-9ffd-1c10aa7cb16f\" data-root-id=\"1007\"></div>\n",
       "</div>\n",
       "<script type=\"application/javascript\">(function(root) {\n",
       "  function embed_document(root) {\n",
       "    var docs_json = {\"052708a0-7d75-4750-9ab9-df91282f6a81\":{\"defs\":[{\"extends\":null,\"module\":null,\"name\":\"ReactiveHTML1\",\"overrides\":[],\"properties\":[]},{\"extends\":null,\"module\":null,\"name\":\"FlexBox1\",\"overrides\":[],\"properties\":[{\"default\":\"flex-start\",\"kind\":null,\"name\":\"align_content\"},{\"default\":\"flex-start\",\"kind\":null,\"name\":\"align_items\"},{\"default\":\"row\",\"kind\":null,\"name\":\"flex_direction\"},{\"default\":\"wrap\",\"kind\":null,\"name\":\"flex_wrap\"},{\"default\":\"flex-start\",\"kind\":null,\"name\":\"justify_content\"}]},{\"extends\":null,\"module\":null,\"name\":\"GridStack1\",\"overrides\":[],\"properties\":[{\"default\":\"warn\",\"kind\":null,\"name\":\"mode\"},{\"default\":null,\"kind\":null,\"name\":\"ncols\"},{\"default\":null,\"kind\":null,\"name\":\"nrows\"},{\"default\":true,\"kind\":null,\"name\":\"allow_resize\"},{\"default\":true,\"kind\":null,\"name\":\"allow_drag\"},{\"default\":[],\"kind\":null,\"name\":\"state\"}]},{\"extends\":null,\"module\":null,\"name\":\"click1\",\"overrides\":[],\"properties\":[{\"default\":\"\",\"kind\":null,\"name\":\"terminal_output\"},{\"default\":\"\",\"kind\":null,\"name\":\"debug_name\"},{\"default\":0,\"kind\":null,\"name\":\"clears\"}]},{\"extends\":null,\"module\":null,\"name\":\"NotificationAreaBase1\",\"overrides\":[],\"properties\":[{\"default\":\"bottom-right\",\"kind\":null,\"name\":\"position\"},{\"default\":0,\"kind\":null,\"name\":\"_clear\"}]},{\"extends\":null,\"module\":null,\"name\":\"NotificationArea1\",\"overrides\":[],\"properties\":[{\"default\":[],\"kind\":null,\"name\":\"notifications\"},{\"default\":\"bottom-right\",\"kind\":null,\"name\":\"position\"},{\"default\":0,\"kind\":null,\"name\":\"_clear\"},{\"default\":[{\"background\":\"#ffc107\",\"icon\":{\"className\":\"fas fa-exclamation-triangle\",\"color\":\"white\",\"tagName\":\"i\"},\"type\":\"warning\"},{\"background\":\"#007bff\",\"icon\":{\"className\":\"fas fa-info-circle\",\"color\":\"white\",\"tagName\":\"i\"},\"type\":\"info\"}],\"kind\":null,\"name\":\"types\"}]},{\"extends\":null,\"module\":null,\"name\":\"Notification\",\"overrides\":[],\"properties\":[{\"default\":null,\"kind\":null,\"name\":\"background\"},{\"default\":3000,\"kind\":null,\"name\":\"duration\"},{\"default\":null,\"kind\":null,\"name\":\"icon\"},{\"default\":\"\",\"kind\":null,\"name\":\"message\"},{\"default\":null,\"kind\":null,\"name\":\"notification_type\"},{\"default\":false,\"kind\":null,\"name\":\"_destroyed\"}]},{\"extends\":null,\"module\":null,\"name\":\"TemplateActions1\",\"overrides\":[],\"properties\":[{\"default\":0,\"kind\":null,\"name\":\"open_modal\"},{\"default\":0,\"kind\":null,\"name\":\"close_modal\"}]},{\"extends\":null,\"module\":null,\"name\":\"MaterialTemplateActions1\",\"overrides\":[],\"properties\":[{\"default\":0,\"kind\":null,\"name\":\"open_modal\"},{\"default\":0,\"kind\":null,\"name\":\"close_modal\"}]}],\"roots\":{\"references\":[{\"attributes\":{\"client_comm_id\":\"c54248ee393f4d318fe28d80d6ad20f0\",\"comm_id\":\"a0e14fd01d0c4c598ead7ad104eed125\",\"plot_id\":\"1007\"},\"id\":\"1008\",\"type\":\"panel.models.comm_manager.CommManager\"},{\"attributes\":{\"auto\":true,\"filename\":\"transcript.txt\",\"label\":\"Download transcript.txt\",\"margin\":[5,10,5,10]},\"id\":\"1007\",\"type\":\"panel.models.widgets.FileDownload\"}],\"root_ids\":[\"1007\",\"1008\"]},\"title\":\"Bokeh Application\",\"version\":\"2.4.3\"}};\n",
       "    var render_items = [{\"docid\":\"052708a0-7d75-4750-9ab9-df91282f6a81\",\"root_ids\":[\"1007\"],\"roots\":{\"1007\":\"18a115cc-b3b8-4bc0-9ffd-1c10aa7cb16f\"}}];\n",
       "    root.Bokeh.embed.embed_items_notebook(docs_json, render_items);\n",
       "  }\n",
       "  if (root.Bokeh !== undefined && root.Bokeh.Panel !== undefined) {\n",
       "    embed_document(root);\n",
       "  } else {\n",
       "    var attempts = 0;\n",
       "    var timer = setInterval(function(root) {\n",
       "      if (root.Bokeh !== undefined && root.Bokeh.Panel !== undefined) {\n",
       "        clearInterval(timer);\n",
       "        embed_document(root);\n",
       "      } else if (document.readyState == \"complete\") {\n",
       "        attempts++;\n",
       "        if (attempts > 200) {\n",
       "          clearInterval(timer);\n",
       "          console.log(\"Bokeh: ERROR: Unable to run BokehJS code because BokehJS library is missing\");\n",
       "        }\n",
       "      }\n",
       "    }, 25, root)\n",
       "  }\n",
       "})(window);</script>"
      ],
      "text/plain": [
       "FileDownload(file=<_io.StringIO o..., filename='transcript.txt', label='Download transcript.txt')"
      ]
     },
     "execution_count": 23,
     "metadata": {
      "application/vnd.holoviews_exec.v0+json": {
       "id": "1007"
      }
     },
     "output_type": "execute_result"
    }
   ],
   "source": [
    "from fileinput import filename\n",
    "\n",
    "\n",
    "transcript_download = pn.widgets.FileDownload(buffer, filename=\"transcript.txt\", # This is a command we use to create a download button for the transcript\n",
    "                                                botton_type=\"primary\") # This is a command we use to style the download button\n",
    "transcript_download # This is a command we use to display the download button"
   ]
  },
  {
   "cell_type": "code",
   "execution_count": 32,
   "metadata": {},
   "outputs": [
    {
     "data": {},
     "metadata": {},
     "output_type": "display_data"
    },
    {
     "data": {
      "application/vnd.holoviews_exec.v0+json": "",
      "text/html": [
       "<div id='1025'>\n",
       "  <div class=\"bk-root\" id=\"384691f5-7a9d-4919-b908-5cf5f31d641c\" data-root-id=\"1025\"></div>\n",
       "</div>\n",
       "<script type=\"application/javascript\">(function(root) {\n",
       "  function embed_document(root) {\n",
       "    var docs_json = {\"50bcdea6-b6bf-4539-ab30-e835df26d55e\":{\"defs\":[{\"extends\":null,\"module\":null,\"name\":\"ReactiveHTML1\",\"overrides\":[],\"properties\":[]},{\"extends\":null,\"module\":null,\"name\":\"FlexBox1\",\"overrides\":[],\"properties\":[{\"default\":\"flex-start\",\"kind\":null,\"name\":\"align_content\"},{\"default\":\"flex-start\",\"kind\":null,\"name\":\"align_items\"},{\"default\":\"row\",\"kind\":null,\"name\":\"flex_direction\"},{\"default\":\"wrap\",\"kind\":null,\"name\":\"flex_wrap\"},{\"default\":\"flex-start\",\"kind\":null,\"name\":\"justify_content\"}]},{\"extends\":null,\"module\":null,\"name\":\"GridStack1\",\"overrides\":[],\"properties\":[{\"default\":\"warn\",\"kind\":null,\"name\":\"mode\"},{\"default\":null,\"kind\":null,\"name\":\"ncols\"},{\"default\":null,\"kind\":null,\"name\":\"nrows\"},{\"default\":true,\"kind\":null,\"name\":\"allow_resize\"},{\"default\":true,\"kind\":null,\"name\":\"allow_drag\"},{\"default\":[],\"kind\":null,\"name\":\"state\"}]},{\"extends\":null,\"module\":null,\"name\":\"click1\",\"overrides\":[],\"properties\":[{\"default\":\"\",\"kind\":null,\"name\":\"terminal_output\"},{\"default\":\"\",\"kind\":null,\"name\":\"debug_name\"},{\"default\":0,\"kind\":null,\"name\":\"clears\"}]},{\"extends\":null,\"module\":null,\"name\":\"NotificationAreaBase1\",\"overrides\":[],\"properties\":[{\"default\":\"bottom-right\",\"kind\":null,\"name\":\"position\"},{\"default\":0,\"kind\":null,\"name\":\"_clear\"}]},{\"extends\":null,\"module\":null,\"name\":\"NotificationArea1\",\"overrides\":[],\"properties\":[{\"default\":[],\"kind\":null,\"name\":\"notifications\"},{\"default\":\"bottom-right\",\"kind\":null,\"name\":\"position\"},{\"default\":0,\"kind\":null,\"name\":\"_clear\"},{\"default\":[{\"background\":\"#ffc107\",\"icon\":{\"className\":\"fas fa-exclamation-triangle\",\"color\":\"white\",\"tagName\":\"i\"},\"type\":\"warning\"},{\"background\":\"#007bff\",\"icon\":{\"className\":\"fas fa-info-circle\",\"color\":\"white\",\"tagName\":\"i\"},\"type\":\"info\"}],\"kind\":null,\"name\":\"types\"}]},{\"extends\":null,\"module\":null,\"name\":\"Notification\",\"overrides\":[],\"properties\":[{\"default\":null,\"kind\":null,\"name\":\"background\"},{\"default\":3000,\"kind\":null,\"name\":\"duration\"},{\"default\":null,\"kind\":null,\"name\":\"icon\"},{\"default\":\"\",\"kind\":null,\"name\":\"message\"},{\"default\":null,\"kind\":null,\"name\":\"notification_type\"},{\"default\":false,\"kind\":null,\"name\":\"_destroyed\"}]},{\"extends\":null,\"module\":null,\"name\":\"TemplateActions1\",\"overrides\":[],\"properties\":[{\"default\":0,\"kind\":null,\"name\":\"open_modal\"},{\"default\":0,\"kind\":null,\"name\":\"close_modal\"}]},{\"extends\":null,\"module\":null,\"name\":\"MaterialTemplateActions1\",\"overrides\":[],\"properties\":[{\"default\":0,\"kind\":null,\"name\":\"open_modal\"},{\"default\":0,\"kind\":null,\"name\":\"close_modal\"}]}],\"roots\":{\"references\":[{\"attributes\":{\"margin\":[5,5,5,5],\"paused\":true,\"time\":147,\"value\":\"https://github.com/KevinArce/AudioAI/blob/master/Harry%20Styles%20-%20As%20It%20Was.mp3?raw=true\"},\"id\":\"1025\",\"type\":\"panel.models.widgets.Audio\"},{\"attributes\":{\"client_comm_id\":\"6876b09f592b4afabbbceac512b29dad\",\"comm_id\":\"9dabdf0e110448e2977e031bfebaacfe\",\"plot_id\":\"1025\"},\"id\":\"1026\",\"type\":\"panel.models.comm_manager.CommManager\"}],\"root_ids\":[\"1025\",\"1026\"]},\"title\":\"Bokeh Application\",\"version\":\"2.4.3\"}};\n",
       "    var render_items = [{\"docid\":\"50bcdea6-b6bf-4539-ab30-e835df26d55e\",\"root_ids\":[\"1025\"],\"roots\":{\"1025\":\"384691f5-7a9d-4919-b908-5cf5f31d641c\"}}];\n",
       "    root.Bokeh.embed.embed_items_notebook(docs_json, render_items);\n",
       "  }\n",
       "  if (root.Bokeh !== undefined && root.Bokeh.Panel !== undefined) {\n",
       "    embed_document(root);\n",
       "  } else {\n",
       "    var attempts = 0;\n",
       "    var timer = setInterval(function(root) {\n",
       "      if (root.Bokeh !== undefined && root.Bokeh.Panel !== undefined) {\n",
       "        clearInterval(timer);\n",
       "        embed_document(root);\n",
       "      } else if (document.readyState == \"complete\") {\n",
       "        attempts++;\n",
       "        if (attempts > 200) {\n",
       "          clearInterval(timer);\n",
       "          console.log(\"Bokeh: ERROR: Unable to run BokehJS code because BokehJS library is missing\");\n",
       "        }\n",
       "      }\n",
       "    }, 25, root)\n",
       "  }\n",
       "})(window);</script>"
      ],
      "text/plain": [
       "Audio(str, time=147)"
      ]
     },
     "execution_count": 32,
     "metadata": {
      "application/vnd.holoviews_exec.v0+json": {
       "id": "1025"
      }
     },
     "output_type": "execute_result"
    }
   ],
   "source": [
    "audio_url = \"https://github.com/KevinArce/AudioAI/blob/master/Harry%20Styles%20-%20As%20It%20Was.mp3?raw=true\" # This is the URL of the audio file we want to download\n",
    "audio_play = pn.pane.Audio(audio_url, name='Audio', time = 147) # This is a command we use to create a player for the audio\n",
    "audio_play # This is a command we use to display the player"
   ]
  },
  {
   "cell_type": "code",
   "execution_count": 33,
   "metadata": {},
   "outputs": [],
   "source": [
    "sentiment = data[\"sentiment_analysis_results\"] # This is the data we get from the API for the sentiment analysis"
   ]
  },
  {
   "cell_type": "code",
   "execution_count": null,
   "metadata": {},
   "outputs": [],
   "source": []
  }
 ],
 "metadata": {
  "kernelspec": {
   "display_name": "Python 3.10.4 ('audioai')",
   "language": "python",
   "name": "python3"
  },
  "language_info": {
   "codemirror_mode": {
    "name": "ipython",
    "version": 3
   },
   "file_extension": ".py",
   "mimetype": "text/x-python",
   "name": "python",
   "nbconvert_exporter": "python",
   "pygments_lexer": "ipython3",
   "version": "3.10.4"
  },
  "orig_nbformat": 4,
  "vscode": {
   "interpreter": {
    "hash": "5604f9a0400d886f0aef6a1a03a9f92c4bef167d30b8e52d5e106ad220667208"
   }
  }
 },
 "nbformat": 4,
 "nbformat_minor": 2
}
